{
  "nbformat": 4,
  "nbformat_minor": 0,
  "metadata": {
    "colab": {
      "provenance": []
    },
    "kernelspec": {
      "name": "python3",
      "display_name": "Python 3"
    },
    "language_info": {
      "name": "python"
    }
  },
  "cells": [
    {
      "cell_type": "code",
      "source": [
        "import numpy as np\n",
        "from google.colab import files\n",
        "\n",
        "# Function to extract all columns and save as .ras file\n",
        "def extract_all_columns(input_file, output_file):\n",
        "    # Load data from the text file assuming it's space-delimited\n",
        "    data = np.loadtxt(input_file, skiprows=1, delimiter=' ')  # Use space as the delimiter\n",
        "\n",
        "    # Save the extracted data into a .ras file\n",
        "    np.savetxt(output_file, data, fmt='%.6f', delimiter='\\t',\n",
        "               header=\"Magnetic Field (Oe)\\tBridge 1 Excitation (uA)\\tBridge 1 Std. Dev. (Ohm)\\tBridge 1 Resistance (Ohms)\", comments='')\n",
        "\n",
        "# Upload multiple input files\n",
        "uploaded = files.upload()\n",
        "\n",
        "# Process each file\n",
        "for input_filename in uploaded.keys():\n",
        "    # Generate the output filename by replacing .txt with .ras\n",
        "    output_filename = input_filename.replace('.txt', '.ras')\n",
        "\n",
        "    # Call the function to extract and save the data\n",
        "    extract_all_columns(input_filename, output_filename)\n",
        "\n",
        "    # Trigger download for each .ras file\n",
        "    files.download(output_filename)\n"
      ],
      "metadata": {
        "id": "MgRdTF0XKgsV"
      },
      "execution_count": null,
      "outputs": []
    }
  ]
}